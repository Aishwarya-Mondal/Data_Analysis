{
 "cells": [
  {
   "cell_type": "code",
   "execution_count": 21,
   "id": "a80a308b-ed2a-4252-971a-74598ec6b5cd",
   "metadata": {},
   "outputs": [],
   "source": [
    "import numpy as np\n",
    "import pandas as pd\n",
    "import matplotlib.pyplot as plt"
   ]
  },
  {
   "cell_type": "markdown",
   "id": "f7271d36-a949-4df0-b125-406e955520d5",
   "metadata": {},
   "source": [
    "### Make a Dataset\n",
    "\n",
    "#### Datetime explanation:\n",
    "(end_date - st_date): Subtracting st_date from end_date results in a timedelta64 object. This object represents the duration between the two dates. For example, the difference between 2025-01-01 and 2024-01-01 would be a timedelta64 representing 366 days (due to 2024 being a leap year).\n",
    "\n",
    ".astype('timedelta64[D]'): This converts the timedelta64 object into a timedelta64 object with a resolution of days. Even though the subtraction already yielded a duration, specifying [D] ensures that the duration is explicitly expressed in terms of whole days, disregarding smaller units like hours or minutes if they were present.\n",
    "\n",
    ".astype(int): This final conversion takes the timedelta64 object (now representing the number of days) and converts it to a standard Python integer. This provides the final integer value for the number of days in the specified range. "
   ]
  },
  {
   "cell_type": "code",
   "execution_count": 2,
   "id": "9632c10f-c519-4e63-8238-16a97c261ff1",
   "metadata": {},
   "outputs": [],
   "source": [
    "file_name = \"Consumer_data.csv\"\n",
    "\n",
    "num_records = 5000\n",
    "\n",
    "# Generating customer ids\n",
    "cust_id = np.arange(1001, 1001+num_records)\n",
    "\n",
    "# Generating customer age\n",
    "ages = np.random.randint(18, 70, size=num_records)\n",
    "\n",
    "# Generating customer gender\n",
    "gender = np.random.choice(['Male', 'Female', 'Prefer Not to say'], size=num_records)\n",
    "\n",
    "# Generating customer product category\n",
    "products = np.random.choice(['Electronics', 'Apparel', 'Home Goods', 'Books', 'Food & Beverage'], size=num_records)\n",
    "\n",
    "# Generating customer purchase amounts\n",
    "purchase_amt = np.round(np.random.uniform(10.0, 500.0, size=num_records), 2)\n",
    "\n",
    "# Generating purchase dates\n",
    "st_date = np.datetime64('2024-01-01')\n",
    "end_date = np.datetime64('2025-01-01')\n",
    "date_range_days = (end_date - st_date).astype('timedelta64[D]').astype(int)\n",
    "\n",
    "purchase_date = st_date + np.random.randint(0, date_range_days, size=num_records).astype('timedelta64[D]')"
   ]
  },
  {
   "cell_type": "code",
   "execution_count": 3,
   "id": "69462256-2862-4ab5-af8f-86925b5d5d25",
   "metadata": {},
   "outputs": [],
   "source": [
    "# Creating pandas dataframe\n",
    "\n",
    "df = pd.DataFrame({'Customer_id': cust_id,\n",
    "                    'Age': ages,\n",
    "                    'Gender': gender,\n",
    "                    'ProductCategory': products,\n",
    "                    'PurchaseAmount': purchase_amt,\n",
    "                    'PurchaseDate': purchase_date})\n",
    "\n",
    "df['PurchaseDate'] = pd.to_datetime(df['PurchaseDate'])\n"
   ]
  },
  {
   "cell_type": "code",
   "execution_count": 4,
   "id": "3df1b8fe-e175-4741-80a4-54b4cf6fff3d",
   "metadata": {},
   "outputs": [],
   "source": [
    "# Save to CSV\n",
    "df.to_csv(file_name, index=False)"
   ]
  },
  {
   "cell_type": "markdown",
   "id": "690068b9-acf8-4048-8300-0cd18930cb46",
   "metadata": {},
   "source": [
    "### Load CSV Data"
   ]
  },
  {
   "cell_type": "code",
   "execution_count": 5,
   "id": "a32eb42f-f118-498a-bd00-f95f05be2cf3",
   "metadata": {},
   "outputs": [
    {
     "data": {
      "text/html": [
       "<div>\n",
       "<style scoped>\n",
       "    .dataframe tbody tr th:only-of-type {\n",
       "        vertical-align: middle;\n",
       "    }\n",
       "\n",
       "    .dataframe tbody tr th {\n",
       "        vertical-align: top;\n",
       "    }\n",
       "\n",
       "    .dataframe thead th {\n",
       "        text-align: right;\n",
       "    }\n",
       "</style>\n",
       "<table border=\"1\" class=\"dataframe\">\n",
       "  <thead>\n",
       "    <tr style=\"text-align: right;\">\n",
       "      <th></th>\n",
       "      <th>Customer_id</th>\n",
       "      <th>Age</th>\n",
       "      <th>Gender</th>\n",
       "      <th>ProductCategory</th>\n",
       "      <th>PurchaseAmount</th>\n",
       "      <th>PurchaseDate</th>\n",
       "    </tr>\n",
       "  </thead>\n",
       "  <tbody>\n",
       "    <tr>\n",
       "      <th>0</th>\n",
       "      <td>1001</td>\n",
       "      <td>55</td>\n",
       "      <td>Prefer Not to say</td>\n",
       "      <td>Books</td>\n",
       "      <td>232.91</td>\n",
       "      <td>2024-02-02</td>\n",
       "    </tr>\n",
       "    <tr>\n",
       "      <th>1</th>\n",
       "      <td>1002</td>\n",
       "      <td>21</td>\n",
       "      <td>Prefer Not to say</td>\n",
       "      <td>Apparel</td>\n",
       "      <td>351.09</td>\n",
       "      <td>2024-01-12</td>\n",
       "    </tr>\n",
       "    <tr>\n",
       "      <th>2</th>\n",
       "      <td>1003</td>\n",
       "      <td>18</td>\n",
       "      <td>Prefer Not to say</td>\n",
       "      <td>Food &amp; Beverage</td>\n",
       "      <td>407.48</td>\n",
       "      <td>2024-12-21</td>\n",
       "    </tr>\n",
       "    <tr>\n",
       "      <th>3</th>\n",
       "      <td>1004</td>\n",
       "      <td>27</td>\n",
       "      <td>Female</td>\n",
       "      <td>Apparel</td>\n",
       "      <td>96.28</td>\n",
       "      <td>2024-10-08</td>\n",
       "    </tr>\n",
       "    <tr>\n",
       "      <th>4</th>\n",
       "      <td>1005</td>\n",
       "      <td>19</td>\n",
       "      <td>Female</td>\n",
       "      <td>Books</td>\n",
       "      <td>372.46</td>\n",
       "      <td>2024-11-24</td>\n",
       "    </tr>\n",
       "    <tr>\n",
       "      <th>...</th>\n",
       "      <td>...</td>\n",
       "      <td>...</td>\n",
       "      <td>...</td>\n",
       "      <td>...</td>\n",
       "      <td>...</td>\n",
       "      <td>...</td>\n",
       "    </tr>\n",
       "    <tr>\n",
       "      <th>4995</th>\n",
       "      <td>5996</td>\n",
       "      <td>42</td>\n",
       "      <td>Male</td>\n",
       "      <td>Home Goods</td>\n",
       "      <td>433.12</td>\n",
       "      <td>2024-04-03</td>\n",
       "    </tr>\n",
       "    <tr>\n",
       "      <th>4996</th>\n",
       "      <td>5997</td>\n",
       "      <td>52</td>\n",
       "      <td>Male</td>\n",
       "      <td>Apparel</td>\n",
       "      <td>132.07</td>\n",
       "      <td>2024-11-01</td>\n",
       "    </tr>\n",
       "    <tr>\n",
       "      <th>4997</th>\n",
       "      <td>5998</td>\n",
       "      <td>56</td>\n",
       "      <td>Prefer Not to say</td>\n",
       "      <td>Electronics</td>\n",
       "      <td>432.64</td>\n",
       "      <td>2024-05-05</td>\n",
       "    </tr>\n",
       "    <tr>\n",
       "      <th>4998</th>\n",
       "      <td>5999</td>\n",
       "      <td>50</td>\n",
       "      <td>Male</td>\n",
       "      <td>Apparel</td>\n",
       "      <td>87.44</td>\n",
       "      <td>2024-08-01</td>\n",
       "    </tr>\n",
       "    <tr>\n",
       "      <th>4999</th>\n",
       "      <td>6000</td>\n",
       "      <td>25</td>\n",
       "      <td>Male</td>\n",
       "      <td>Electronics</td>\n",
       "      <td>406.18</td>\n",
       "      <td>2024-10-08</td>\n",
       "    </tr>\n",
       "  </tbody>\n",
       "</table>\n",
       "<p>5000 rows × 6 columns</p>\n",
       "</div>"
      ],
      "text/plain": [
       "      Customer_id  Age             Gender  ProductCategory  PurchaseAmount  \\\n",
       "0            1001   55  Prefer Not to say            Books          232.91   \n",
       "1            1002   21  Prefer Not to say          Apparel          351.09   \n",
       "2            1003   18  Prefer Not to say  Food & Beverage          407.48   \n",
       "3            1004   27             Female          Apparel           96.28   \n",
       "4            1005   19             Female            Books          372.46   \n",
       "...           ...  ...                ...              ...             ...   \n",
       "4995         5996   42               Male       Home Goods          433.12   \n",
       "4996         5997   52               Male          Apparel          132.07   \n",
       "4997         5998   56  Prefer Not to say      Electronics          432.64   \n",
       "4998         5999   50               Male          Apparel           87.44   \n",
       "4999         6000   25               Male      Electronics          406.18   \n",
       "\n",
       "     PurchaseDate  \n",
       "0      2024-02-02  \n",
       "1      2024-01-12  \n",
       "2      2024-12-21  \n",
       "3      2024-10-08  \n",
       "4      2024-11-24  \n",
       "...           ...  \n",
       "4995   2024-04-03  \n",
       "4996   2024-11-01  \n",
       "4997   2024-05-05  \n",
       "4998   2024-08-01  \n",
       "4999   2024-10-08  \n",
       "\n",
       "[5000 rows x 6 columns]"
      ]
     },
     "execution_count": 5,
     "metadata": {},
     "output_type": "execute_result"
    }
   ],
   "source": [
    "csv1 = pd.read_csv(file_name)\n",
    "\n",
    "csv1"
   ]
  },
  {
   "cell_type": "code",
   "execution_count": 6,
   "id": "c92236dd-6906-46e0-bec5-487b5086b9dc",
   "metadata": {},
   "outputs": [],
   "source": [
    "# remove some random entries from PurchaseAmount column \n",
    "\n",
    "num_of_entries = 10\n",
    "# random_state is the seed value\n",
    "random_indices = csv1['PurchaseAmount'].sample(n=num_of_entries, random_state=1).index\n",
    "\n",
    "csv1.loc[random_indices, 'PurchaseAmount'] = np.nan"
   ]
  },
  {
   "cell_type": "code",
   "execution_count": 7,
   "id": "3d6725e6-a200-4f4c-88bd-581b1ec23051",
   "metadata": {},
   "outputs": [
    {
     "data": {
      "text/plain": [
       "Customer_id        False\n",
       "Age                False\n",
       "Gender             False\n",
       "ProductCategory    False\n",
       "PurchaseAmount      True\n",
       "PurchaseDate       False\n",
       "dtype: bool"
      ]
     },
     "execution_count": 7,
     "metadata": {},
     "output_type": "execute_result"
    }
   ],
   "source": [
    "csv1.isnull().any()"
   ]
  },
  {
   "cell_type": "code",
   "execution_count": 8,
   "id": "b1a7775f-d341-4b88-9d33-de74cb7c2832",
   "metadata": {},
   "outputs": [
    {
     "data": {
      "text/plain": [
       "Customer_id         0\n",
       "Age                 0\n",
       "Gender              0\n",
       "ProductCategory     0\n",
       "PurchaseAmount     10\n",
       "PurchaseDate        0\n",
       "dtype: int64"
      ]
     },
     "execution_count": 8,
     "metadata": {},
     "output_type": "execute_result"
    }
   ],
   "source": [
    "csv1.isnull().sum()"
   ]
  },
  {
   "cell_type": "code",
   "execution_count": 9,
   "id": "50220a08-14c6-4e03-8781-fe9155554d46",
   "metadata": {},
   "outputs": [
    {
     "data": {
      "text/plain": [
       "Index(['Customer_id', 'Age', 'Gender', 'ProductCategory', 'PurchaseAmount',\n",
       "       'PurchaseDate'],\n",
       "      dtype='object')"
      ]
     },
     "execution_count": 9,
     "metadata": {},
     "output_type": "execute_result"
    }
   ],
   "source": [
    "csv1.columns"
   ]
  },
  {
   "cell_type": "markdown",
   "id": "5674cd93-0daf-440d-87b4-f00beca90e44",
   "metadata": {},
   "source": [
    "### Fill NAN Data"
   ]
  },
  {
   "cell_type": "code",
   "execution_count": 10,
   "id": "d9fa7677-fb68-40fb-a84e-a697c5256e4f",
   "metadata": {},
   "outputs": [
    {
     "data": {
      "text/plain": [
       "np.float64(253.6542685370741)"
      ]
     },
     "execution_count": 10,
     "metadata": {},
     "output_type": "execute_result"
    }
   ],
   "source": [
    "mean_purchase_amt = csv1['PurchaseAmount'].mean()\n",
    "\n",
    "mean_purchase_amt"
   ]
  },
  {
   "cell_type": "code",
   "execution_count": 11,
   "id": "5110eea2-9b45-483b-b986-b6aef1218cd9",
   "metadata": {},
   "outputs": [
    {
     "data": {
      "text/plain": [
       "np.float64(251.01999999999998)"
      ]
     },
     "execution_count": 11,
     "metadata": {},
     "output_type": "execute_result"
    }
   ],
   "source": [
    "median_purchase_amt = csv1['PurchaseAmount'].median()\n",
    "\n",
    "median_purchase_amt"
   ]
  },
  {
   "cell_type": "code",
   "execution_count": 12,
   "id": "1a31bfe6-17d7-428d-9c2f-defe472b12b5",
   "metadata": {},
   "outputs": [
    {
     "data": {
      "text/plain": [
       "0    107.75\n",
       "1    154.73\n",
       "2    255.81\n",
       "3    320.76\n",
       "4    426.38\n",
       "Name: PurchaseAmount, dtype: float64"
      ]
     },
     "execution_count": 12,
     "metadata": {},
     "output_type": "execute_result"
    }
   ],
   "source": [
    "mode_purchase_amt = csv1['PurchaseAmount'].mode()\n",
    "\n",
    "mode_purchase_amt"
   ]
  },
  {
   "cell_type": "code",
   "execution_count": 13,
   "id": "36d1e141-f1c7-4414-9059-ecdf197cf27e",
   "metadata": {},
   "outputs": [],
   "source": [
    "csv1['PurchaseAmount'] = csv1['PurchaseAmount'].fillna(mean_purchase_amt)"
   ]
  },
  {
   "cell_type": "code",
   "execution_count": 14,
   "id": "5c3a4da7-e9d4-458f-907a-21019d450713",
   "metadata": {},
   "outputs": [
    {
     "data": {
      "text/plain": [
       "Customer_id        0\n",
       "Age                0\n",
       "Gender             0\n",
       "ProductCategory    0\n",
       "PurchaseAmount     0\n",
       "PurchaseDate       0\n",
       "dtype: int64"
      ]
     },
     "execution_count": 14,
     "metadata": {},
     "output_type": "execute_result"
    }
   ],
   "source": [
    "csv1.isnull().sum()\n"
   ]
  },
  {
   "cell_type": "code",
   "execution_count": 15,
   "id": "3ff3ead1-5c1e-488a-a67e-efb02be7b27b",
   "metadata": {},
   "outputs": [
    {
     "name": "stdout",
     "output_type": "stream",
     "text": [
      "Quartile_1 25% :132.0675\n",
      "Quartile_2 50% :251.525\n",
      "Quartile_3 75% :375.3525\n",
      "\n",
      "IQR:  243.28500000000003\n"
     ]
    }
   ],
   "source": [
    "Quartile_1 = csv1['PurchaseAmount'].quantile(0.25)\n",
    "Quartile_2 = csv1['PurchaseAmount'].quantile(0.50) # Median\n",
    "Quartile_3 = csv1['PurchaseAmount'].quantile(0.75)\n",
    "\n",
    "IQR = Quartile_3 - Quartile_1\n",
    "\n",
    "print(f\"Quartile_1 25% :{Quartile_1}\")\n",
    "print(f\"Quartile_2 50% :{Quartile_2}\")\n",
    "print(f\"Quartile_3 75% :{Quartile_3}\")\n",
    "print(f\"\\nIQR:  {IQR}\")"
   ]
  },
  {
   "cell_type": "markdown",
   "id": "11eb6d2d-4a20-4b34-9fe3-7440b257d5c6",
   "metadata": {},
   "source": [
    "#### Observations:\n",
    "\n",
    "##### 75% purchaseAmount is greater than 256.845.\n",
    "\n",
    "##### 50% purchaseAmount is greater than 256.845 which is also the median"
   ]
  },
  {
   "cell_type": "markdown",
   "id": "2278fafe-302f-48e0-a28d-d37569d6e98a",
   "metadata": {},
   "source": [
    "### Outlier Analysis\n",
    "\n",
    "Outlier < Q1 - (IQR * 1.5)\n",
    "    or \n",
    "Outlier > Q1 + (IQR * 1.5)"
   ]
  },
  {
   "cell_type": "code",
   "execution_count": 16,
   "id": "eb5e201a-10f4-4d18-9da3-bebceecfe1e1",
   "metadata": {},
   "outputs": [
    {
     "name": "stdout",
     "output_type": "stream",
     "text": [
      "Low range: -232.86\n",
      "High range: 740.28\n"
     ]
    }
   ],
   "source": [
    "low_range = Quartile_1 - (IQR * 1.5)\n",
    "high_range = Quartile_3 + (IQR * 1.5)\n",
    "\n",
    "print(\"Low range:\", low_range)\n",
    "print(\"High range:\", high_range)"
   ]
  },
  {
   "cell_type": "code",
   "execution_count": 17,
   "id": "cddef161-de0a-4887-bebe-d0b0d32473ab",
   "metadata": {},
   "outputs": [
    {
     "data": {
      "text/plain": [
       "np.float64(10.0)"
      ]
     },
     "execution_count": 17,
     "metadata": {},
     "output_type": "execute_result"
    }
   ],
   "source": [
    "csv1['PurchaseAmount'].min()"
   ]
  },
  {
   "cell_type": "code",
   "execution_count": 18,
   "id": "00dff66e-1449-4356-81f8-ffe035e80b59",
   "metadata": {},
   "outputs": [
    {
     "data": {
      "text/plain": [
       "np.float64(499.89)"
      ]
     },
     "execution_count": 18,
     "metadata": {},
     "output_type": "execute_result"
    }
   ],
   "source": [
    "csv1['PurchaseAmount'].max()"
   ]
  },
  {
   "cell_type": "markdown",
   "id": "19b66ab2-c53b-4413-a1cb-9ef7cd7f7c6d",
   "metadata": {},
   "source": [
    "#### Observations:\n",
    "\n",
    "##### There are no outliers in this data"
   ]
  },
  {
   "cell_type": "markdown",
   "id": "8a2edcbe-58e5-4202-9113-2312d29e4420",
   "metadata": {},
   "source": [
    "#### Box-whiskers-plot "
   ]
  },
  {
   "cell_type": "code",
   "execution_count": 20,
   "id": "ca16fa7e-d181-4229-8377-619131023f64",
   "metadata": {},
   "outputs": [
    {
     "data": {
      "image/png": "[encoded data removed]",
      "text/plain": [
       "<Figure size 640x480 with 1 Axes>"
      ]
     },
     "metadata": {},
     "output_type": "display_data"
    }
   ],
   "source": [
    "csv1['PurchaseAmount'].plot(kind='box', vert=False)\n",
    "plt.title('Box Plot of PurchaseAmount')\n",
    "plt.xlabel('PurchaseAmount')\n",
    "plt.show()"
   ]
  },
  {
   "cell_type": "markdown",
   "id": "b52f3683-f23c-4776-b163-01e1b29e68e9",
   "metadata": {},
   "source": [
    "#### Observations:\n",
    "\n",
    "##### Minimum value is near by 0.\n",
    "##### Maximum value is closest to 500.\n",
    "##### Quartile_1 is between 100 & 200\n",
    "##### Quartile_2 or median is between 200 & 300\n",
    "##### Quartile_3 is between 300 & 400"
   ]
  },
  {
   "cell_type": "code",
   "execution_count": 22,
   "id": "d5da0ca4-4113-4319-9ce6-1773e7a8c9f3",
   "metadata": {},
   "outputs": [
    {
     "data": {
      "image/png": "[encoded data removed]",
      "text/plain": [
       "<Figure size 640x480 with 1 Axes>"
      ]
     },
     "metadata": {},
     "output_type": "display_data"
    }
   ],
   "source": [
    "csv1['PurchaseAmount'].plot(kind='hist')\n",
    "plt.title('Box Plot of PurchaseAmount')\n",
    "plt.xlabel('PurchaseAmount')\n",
    "plt.show()"
   ]
  },
  {
   "cell_type": "code",
   "execution_count": null,
   "id": "1615b2bf-5c14-45ff-a5ea-e6d1690008bb",
   "metadata": {},
   "outputs": [],
   "source": []
  }
 ],
 "metadata": {
  "kernelspec": {
   "display_name": "Python 3 (ipykernel)",
   "language": "python",
   "name": "python3"
  },
  "language_info": {
   "codemirror_mode": {
    "name": "ipython",
    "version": 3
   },
   "file_extension": ".py",
   "mimetype": "text/x-python",
   "name": "python",
   "nbconvert_exporter": "python",
   "pygments_lexer": "ipython3",
   "version": "3.12.6"
  }
 },
 "nbformat": 4,
 "nbformat_minor": 5
}
